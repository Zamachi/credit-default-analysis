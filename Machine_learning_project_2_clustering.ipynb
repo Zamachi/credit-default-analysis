{
  "nbformat": 4,
  "nbformat_minor": 0,
  "metadata": {
    "colab": {
      "name": "Machine learning project 2 - clustering.ipynb",
      "provenance": [],
      "collapsed_sections": []
    },
    "kernelspec": {
      "name": "python3",
      "display_name": "Python 3"
    },
    "language_info": {
      "name": "python"
    }
  },
  "cells": [
    {
      "cell_type": "markdown",
      "source": [
        "# Default of Credit Cards\n",
        "\n",
        "Dataset preuzet sa [sledeceg sajta](https://www.kaggle.com/uciml/default-of-credit-card-clients-dataset)\n",
        "## Opis skupa podataka, atributa i problema\n",
        "\n",
        "Varijable koje su sadrzane u skupu podataka su sledece:\n",
        "\n",
        "1. LIMIT_BAL: Kolicina sredstava izdata kao kredit(u tajvanskim dolarima) (includes individual and family/supplementary credit\n",
        "2. SEX: Pol (1=musko, 2=zensko)\n",
        "3. EDUCATION: Obrazovni nivo (1=poslediplomske studije, 2=univerzitet, 3=srednja skola, 4=ostalo, 5=nepoznato, 6=nepoznato)\n",
        "4. MARRIAGE: Bracni status (1=u braku, 2=, 3=ostalo)\n",
        "5. AGE: Starosna dob\n",
        "6. PAY_0: Status otplate u septembru, 2005 (-1=placeno u roku, 1=isplata kasni jedan mesec, 2=isplata kasni dva meseca, … 8=isplata kasni osam meseci, 9=isplata kasni devet ili vise meseci)\n",
        "7. PAY_2: Status otplate u avgustu, 2005 (opseg vrednosti isto kao i kod 7.)\n",
        "8. PAY_3: Status otplate u julu, 2005 (opseg vrednosti isto kao i kod 7.)\n",
        "9. PAY_4: Status otplate u junu, 2005 (opseg vrednosti isto kao i kod 7.)\n",
        "10. PAY_5: Status otplate u maju, 2005 (opseg vrednosti isto kao i kod 7.)\n",
        "11. PAY_6: Status otplate u aprilu, 2005 (opseg vrednosti isto kao i kod 7.)\n",
        "12. BILL_AMT1: Kolicina izvoda racuna u septembru, 2005 (tajvanski dolar)\n",
        "13. BILL_AMT2: Kolicina izvoda racuna u avgustu, 2005 (tajvanski dolar)\n",
        "14. BILL_AMT3: Kolicina izvoda racuna u julu, 2005 (tajvanski dolar)\n",
        "15. BILL_AMT4: Kolicina izvoda racuna u junu, 2005 (tajvanski dolar)\n",
        "16. BILL_AMT5: Kolicina izvoda racuna u maju, 2005 (tajvanski dolar)\n",
        "17. BILL_AMT6: Kolicina izvoda racuna u aprilu, 2005 (tajvanski dolar)\n",
        "18. PAY_AMT1: Kolicina prethodne isplate u septembru, 2005 (tajvanski dolar)\n",
        "19. PAY_AMT2: Kolicina prethodne isplate u avgustu, 2005 (tajvanski dolar)\n",
        "20. PAY_AMT3: Kolicina prethodne isplate u julu, 2005 (tajvanski dolar)\n",
        "21. PAY_AMT4: Kolicina prethodne isplate u junu, 2005 (tajvanski dolar)\n",
        "22. PAY_AMT5: Kolicina prethodne isplate u maju, 2005 (tajvanski dolar)\n",
        "23. PAY_AMT6: Kolicina prethodne isplate u aprilu, 2005 (tajvanski dolar)\n"
      ],
      "metadata": {
        "id": "X1693tFD67gR"
      }
    },
    {
      "cell_type": "code",
      "source": [
        "from google.colab import drive\n",
        "drive.mount('/content/drive')\n",
        "\n",
        "%cd /content/drive/My\\ Drive\n",
        "!ls UCI*"
      ],
      "metadata": {
        "colab": {
          "base_uri": "https://localhost:8080/"
        },
        "id": "IYpasoif7X5l",
        "outputId": "9c7cbf0c-62d7-416c-b39e-9827fbdd4690"
      },
      "execution_count": 3,
      "outputs": [
        {
          "output_type": "stream",
          "name": "stdout",
          "text": [
            "Mounted at /content/drive\n",
            "/content/drive/My Drive\n",
            "UCI_Credit_Card.csv\n"
          ]
        }
      ]
    },
    {
      "cell_type": "markdown",
      "source": [
        "## Ucitavanje i preprocesiranje podataka\n",
        "Potrebno je ucitati podatke i izvrsiti odredjenu vrstu preprocesiranja kako bi podaci ostali konzistentni u skladu sa opisom skupa atributa.\n"
      ],
      "metadata": {
        "id": "cROBbosh7mEI"
      }
    },
    {
      "cell_type": "markdown",
      "source": [
        "### Ucitavanje podataka"
      ],
      "metadata": {
        "id": "yhZqdml07qE1"
      }
    },
    {
      "cell_type": "code",
      "source": [
        "import pandas as pd\n",
        "\n",
        "data = pd.read_csv(\"UCI_Credit_Card.csv\")"
      ],
      "metadata": {
        "id": "G6bnsf9c70j2"
      },
      "execution_count": 4,
      "outputs": []
    },
    {
      "cell_type": "markdown",
      "source": [
        "### Uskladjivanje podataka\n",
        "Uskladjujemo podatke u skladu sa opisom atributa"
      ],
      "metadata": {
        "id": "5qrq9FZJ8iMJ"
      }
    },
    {
      "cell_type": "code",
      "source": [
        "data = data.drop(data[(data.EDUCATION == 5) | (data.EDUCATION == 6) | (data.EDUCATION == 0)| (data.MARRIAGE == 0)].index)#uklanjamo tamo gde je edukacija oznacena kao nepoznata\n",
        "\n",
        "for index,row in data.iterrows():#potrebno je inkrementirati ove kolone u svakom redu za 1 da bi se opseg podudarao sa opisom\n",
        "  data.at[index,\"PAY_0\"]=row[\"PAY_0\"]+1\n",
        "  data.at[index,\"PAY_2\"]=row[\"PAY_2\"]+1\n",
        "  data.at[index,\"PAY_3\"]=row[\"PAY_3\"]+1\n",
        "  data.at[index,\"PAY_4\"]=row[\"PAY_4\"]+1\n",
        "  data.at[index,\"PAY_5\"]=row[\"PAY_5\"]+1\n",
        "  data.at[index,\"PAY_6\"]=row[\"PAY_6\"]+1\n",
        "\n",
        "data = data.drop(data[\n",
        "                      (data.PAY_0 == 0) | \n",
        "                      (data.PAY_2 == 0) |\n",
        "                      (data.PAY_3 == 0) |\n",
        "                      (data.PAY_4 == 0) |\n",
        "                      (data.PAY_5 == 0) |\n",
        "                      (data.PAY_6 == 0) \n",
        "                      ].index)#uklanjamo tamo gde je PAY_X oznacen kao nula, jer takvih vrednosti nemamo u opisu"
      ],
      "metadata": {
        "id": "bPZ7XJZ28otI"
      },
      "execution_count": 5,
      "outputs": []
    },
    {
      "cell_type": "markdown",
      "source": [
        "### Ciscenje, enkodovanje, popunjavanje praznih vrednosti...\n"
      ],
      "metadata": {
        "id": "drOG2aYR9b_G"
      }
    },
    {
      "cell_type": "code",
      "source": [
        "data.dtypes"
      ],
      "metadata": {
        "colab": {
          "base_uri": "https://localhost:8080/"
        },
        "id": "IeCEl0uM9gTZ",
        "outputId": "887cfb90-427e-46a2-ac15-3d0f18cce0d6"
      },
      "execution_count": 6,
      "outputs": [
        {
          "output_type": "execute_result",
          "data": {
            "text/plain": [
              "ID                              int64\n",
              "LIMIT_BAL                     float64\n",
              "SEX                             int64\n",
              "EDUCATION                       int64\n",
              "MARRIAGE                        int64\n",
              "AGE                             int64\n",
              "PAY_0                           int64\n",
              "PAY_2                           int64\n",
              "PAY_3                           int64\n",
              "PAY_4                           int64\n",
              "PAY_5                           int64\n",
              "PAY_6                           int64\n",
              "BILL_AMT1                     float64\n",
              "BILL_AMT2                     float64\n",
              "BILL_AMT3                     float64\n",
              "BILL_AMT4                     float64\n",
              "BILL_AMT5                     float64\n",
              "BILL_AMT6                     float64\n",
              "PAY_AMT1                      float64\n",
              "PAY_AMT2                      float64\n",
              "PAY_AMT3                      float64\n",
              "PAY_AMT4                      float64\n",
              "PAY_AMT5                      float64\n",
              "PAY_AMT6                      float64\n",
              "default.payment.next.month      int64\n",
              "dtype: object"
            ]
          },
          "metadata": {},
          "execution_count": 6
        }
      ]
    },
    {
      "cell_type": "markdown",
      "source": [
        "Posto nema nenumerickih podataka, ne vrsimo enkodovanje\n"
      ],
      "metadata": {
        "id": "qYaOdVvf9hWN"
      }
    },
    {
      "cell_type": "code",
      "source": [
        "data.isnull().sum(axis=0) # provera da li ima nekih null/NaN vrednosti"
      ],
      "metadata": {
        "colab": {
          "base_uri": "https://localhost:8080/"
        },
        "id": "x5xTE9SJ9kw3",
        "outputId": "a8fcb154-f4ad-4196-b35f-959137c5bb33"
      },
      "execution_count": 7,
      "outputs": [
        {
          "output_type": "execute_result",
          "data": {
            "text/plain": [
              "ID                            0\n",
              "LIMIT_BAL                     0\n",
              "SEX                           0\n",
              "EDUCATION                     0\n",
              "MARRIAGE                      0\n",
              "AGE                           0\n",
              "PAY_0                         0\n",
              "PAY_2                         0\n",
              "PAY_3                         0\n",
              "PAY_4                         0\n",
              "PAY_5                         0\n",
              "PAY_6                         0\n",
              "BILL_AMT1                     0\n",
              "BILL_AMT2                     0\n",
              "BILL_AMT3                     0\n",
              "BILL_AMT4                     0\n",
              "BILL_AMT5                     0\n",
              "BILL_AMT6                     0\n",
              "PAY_AMT1                      0\n",
              "PAY_AMT2                      0\n",
              "PAY_AMT3                      0\n",
              "PAY_AMT4                      0\n",
              "PAY_AMT5                      0\n",
              "PAY_AMT6                      0\n",
              "default.payment.next.month    0\n",
              "dtype: int64"
            ]
          },
          "metadata": {},
          "execution_count": 7
        }
      ]
    },
    {
      "cell_type": "markdown",
      "source": [
        "Nema NaN/None vrednosti, pa samim tim mozemo preskociti i zamenu ovih vrednosti"
      ],
      "metadata": {
        "id": "JTAVQex79sN6"
      }
    },
    {
      "cell_type": "markdown",
      "source": [
        "### Ekstrahovanje skupa\n",
        "S obzirom da se bavimo ***unsupervised learning***-om, target kolona \"***default.payment.next.month***\" nam nece biti potrebna. "
      ],
      "metadata": {
        "id": "Xcrf32Le92Re"
      }
    },
    {
      "cell_type": "code",
      "source": [
        "X = data.drop(labels=[\"default.payment.next.month\", \"ID\"], axis=1)\n",
        "X.head()"
      ],
      "metadata": {
        "colab": {
          "base_uri": "https://localhost:8080/",
          "height": 236
        },
        "id": "nh6AriTs-Hhi",
        "outputId": "693fa197-2951-4294-dfdf-6f3709803b44"
      },
      "execution_count": 8,
      "outputs": [
        {
          "output_type": "execute_result",
          "data": {
            "text/plain": [
              "   LIMIT_BAL  SEX  EDUCATION  MARRIAGE  AGE  PAY_0  PAY_2  PAY_3  PAY_4  \\\n",
              "2    90000.0    2          2         2   34      1      1      1      1   \n",
              "3    50000.0    2          2         1   37      1      1      1      1   \n",
              "5    50000.0    1          1         2   37      1      1      1      1   \n",
              "6   500000.0    1          1         2   29      1      1      1      1   \n",
              "8   140000.0    2          3         1   28      1      1      3      1   \n",
              "\n",
              "   PAY_5  ...  BILL_AMT3  BILL_AMT4  BILL_AMT5  BILL_AMT6  PAY_AMT1  PAY_AMT2  \\\n",
              "2      1  ...    13559.0    14331.0    14948.0    15549.0    1518.0    1500.0   \n",
              "3      1  ...    49291.0    28314.0    28959.0    29547.0    2000.0    2019.0   \n",
              "5      1  ...    57608.0    19394.0    19619.0    20024.0    2500.0    1815.0   \n",
              "6      1  ...   445007.0   542653.0   483003.0   473944.0   55000.0   40000.0   \n",
              "8      1  ...    12108.0    12211.0    11793.0     3719.0    3329.0       0.0   \n",
              "\n",
              "   PAY_AMT3  PAY_AMT4  PAY_AMT5  PAY_AMT6  \n",
              "2    1000.0    1000.0    1000.0    5000.0  \n",
              "3    1200.0    1100.0    1069.0    1000.0  \n",
              "5     657.0    1000.0    1000.0     800.0  \n",
              "6   38000.0   20239.0   13750.0   13770.0  \n",
              "8     432.0    1000.0    1000.0    1000.0  \n",
              "\n",
              "[5 rows x 23 columns]"
            ],
            "text/html": [
              "\n",
              "  <div id=\"df-462184ab-30a4-4549-b885-e3b0c3e3f606\">\n",
              "    <div class=\"colab-df-container\">\n",
              "      <div>\n",
              "<style scoped>\n",
              "    .dataframe tbody tr th:only-of-type {\n",
              "        vertical-align: middle;\n",
              "    }\n",
              "\n",
              "    .dataframe tbody tr th {\n",
              "        vertical-align: top;\n",
              "    }\n",
              "\n",
              "    .dataframe thead th {\n",
              "        text-align: right;\n",
              "    }\n",
              "</style>\n",
              "<table border=\"1\" class=\"dataframe\">\n",
              "  <thead>\n",
              "    <tr style=\"text-align: right;\">\n",
              "      <th></th>\n",
              "      <th>LIMIT_BAL</th>\n",
              "      <th>SEX</th>\n",
              "      <th>EDUCATION</th>\n",
              "      <th>MARRIAGE</th>\n",
              "      <th>AGE</th>\n",
              "      <th>PAY_0</th>\n",
              "      <th>PAY_2</th>\n",
              "      <th>PAY_3</th>\n",
              "      <th>PAY_4</th>\n",
              "      <th>PAY_5</th>\n",
              "      <th>...</th>\n",
              "      <th>BILL_AMT3</th>\n",
              "      <th>BILL_AMT4</th>\n",
              "      <th>BILL_AMT5</th>\n",
              "      <th>BILL_AMT6</th>\n",
              "      <th>PAY_AMT1</th>\n",
              "      <th>PAY_AMT2</th>\n",
              "      <th>PAY_AMT3</th>\n",
              "      <th>PAY_AMT4</th>\n",
              "      <th>PAY_AMT5</th>\n",
              "      <th>PAY_AMT6</th>\n",
              "    </tr>\n",
              "  </thead>\n",
              "  <tbody>\n",
              "    <tr>\n",
              "      <th>2</th>\n",
              "      <td>90000.0</td>\n",
              "      <td>2</td>\n",
              "      <td>2</td>\n",
              "      <td>2</td>\n",
              "      <td>34</td>\n",
              "      <td>1</td>\n",
              "      <td>1</td>\n",
              "      <td>1</td>\n",
              "      <td>1</td>\n",
              "      <td>1</td>\n",
              "      <td>...</td>\n",
              "      <td>13559.0</td>\n",
              "      <td>14331.0</td>\n",
              "      <td>14948.0</td>\n",
              "      <td>15549.0</td>\n",
              "      <td>1518.0</td>\n",
              "      <td>1500.0</td>\n",
              "      <td>1000.0</td>\n",
              "      <td>1000.0</td>\n",
              "      <td>1000.0</td>\n",
              "      <td>5000.0</td>\n",
              "    </tr>\n",
              "    <tr>\n",
              "      <th>3</th>\n",
              "      <td>50000.0</td>\n",
              "      <td>2</td>\n",
              "      <td>2</td>\n",
              "      <td>1</td>\n",
              "      <td>37</td>\n",
              "      <td>1</td>\n",
              "      <td>1</td>\n",
              "      <td>1</td>\n",
              "      <td>1</td>\n",
              "      <td>1</td>\n",
              "      <td>...</td>\n",
              "      <td>49291.0</td>\n",
              "      <td>28314.0</td>\n",
              "      <td>28959.0</td>\n",
              "      <td>29547.0</td>\n",
              "      <td>2000.0</td>\n",
              "      <td>2019.0</td>\n",
              "      <td>1200.0</td>\n",
              "      <td>1100.0</td>\n",
              "      <td>1069.0</td>\n",
              "      <td>1000.0</td>\n",
              "    </tr>\n",
              "    <tr>\n",
              "      <th>5</th>\n",
              "      <td>50000.0</td>\n",
              "      <td>1</td>\n",
              "      <td>1</td>\n",
              "      <td>2</td>\n",
              "      <td>37</td>\n",
              "      <td>1</td>\n",
              "      <td>1</td>\n",
              "      <td>1</td>\n",
              "      <td>1</td>\n",
              "      <td>1</td>\n",
              "      <td>...</td>\n",
              "      <td>57608.0</td>\n",
              "      <td>19394.0</td>\n",
              "      <td>19619.0</td>\n",
              "      <td>20024.0</td>\n",
              "      <td>2500.0</td>\n",
              "      <td>1815.0</td>\n",
              "      <td>657.0</td>\n",
              "      <td>1000.0</td>\n",
              "      <td>1000.0</td>\n",
              "      <td>800.0</td>\n",
              "    </tr>\n",
              "    <tr>\n",
              "      <th>6</th>\n",
              "      <td>500000.0</td>\n",
              "      <td>1</td>\n",
              "      <td>1</td>\n",
              "      <td>2</td>\n",
              "      <td>29</td>\n",
              "      <td>1</td>\n",
              "      <td>1</td>\n",
              "      <td>1</td>\n",
              "      <td>1</td>\n",
              "      <td>1</td>\n",
              "      <td>...</td>\n",
              "      <td>445007.0</td>\n",
              "      <td>542653.0</td>\n",
              "      <td>483003.0</td>\n",
              "      <td>473944.0</td>\n",
              "      <td>55000.0</td>\n",
              "      <td>40000.0</td>\n",
              "      <td>38000.0</td>\n",
              "      <td>20239.0</td>\n",
              "      <td>13750.0</td>\n",
              "      <td>13770.0</td>\n",
              "    </tr>\n",
              "    <tr>\n",
              "      <th>8</th>\n",
              "      <td>140000.0</td>\n",
              "      <td>2</td>\n",
              "      <td>3</td>\n",
              "      <td>1</td>\n",
              "      <td>28</td>\n",
              "      <td>1</td>\n",
              "      <td>1</td>\n",
              "      <td>3</td>\n",
              "      <td>1</td>\n",
              "      <td>1</td>\n",
              "      <td>...</td>\n",
              "      <td>12108.0</td>\n",
              "      <td>12211.0</td>\n",
              "      <td>11793.0</td>\n",
              "      <td>3719.0</td>\n",
              "      <td>3329.0</td>\n",
              "      <td>0.0</td>\n",
              "      <td>432.0</td>\n",
              "      <td>1000.0</td>\n",
              "      <td>1000.0</td>\n",
              "      <td>1000.0</td>\n",
              "    </tr>\n",
              "  </tbody>\n",
              "</table>\n",
              "<p>5 rows × 23 columns</p>\n",
              "</div>\n",
              "      <button class=\"colab-df-convert\" onclick=\"convertToInteractive('df-462184ab-30a4-4549-b885-e3b0c3e3f606')\"\n",
              "              title=\"Convert this dataframe to an interactive table.\"\n",
              "              style=\"display:none;\">\n",
              "        \n",
              "  <svg xmlns=\"http://www.w3.org/2000/svg\" height=\"24px\"viewBox=\"0 0 24 24\"\n",
              "       width=\"24px\">\n",
              "    <path d=\"M0 0h24v24H0V0z\" fill=\"none\"/>\n",
              "    <path d=\"M18.56 5.44l.94 2.06.94-2.06 2.06-.94-2.06-.94-.94-2.06-.94 2.06-2.06.94zm-11 1L8.5 8.5l.94-2.06 2.06-.94-2.06-.94L8.5 2.5l-.94 2.06-2.06.94zm10 10l.94 2.06.94-2.06 2.06-.94-2.06-.94-.94-2.06-.94 2.06-2.06.94z\"/><path d=\"M17.41 7.96l-1.37-1.37c-.4-.4-.92-.59-1.43-.59-.52 0-1.04.2-1.43.59L10.3 9.45l-7.72 7.72c-.78.78-.78 2.05 0 2.83L4 21.41c.39.39.9.59 1.41.59.51 0 1.02-.2 1.41-.59l7.78-7.78 2.81-2.81c.8-.78.8-2.07 0-2.86zM5.41 20L4 18.59l7.72-7.72 1.47 1.35L5.41 20z\"/>\n",
              "  </svg>\n",
              "      </button>\n",
              "      \n",
              "  <style>\n",
              "    .colab-df-container {\n",
              "      display:flex;\n",
              "      flex-wrap:wrap;\n",
              "      gap: 12px;\n",
              "    }\n",
              "\n",
              "    .colab-df-convert {\n",
              "      background-color: #E8F0FE;\n",
              "      border: none;\n",
              "      border-radius: 50%;\n",
              "      cursor: pointer;\n",
              "      display: none;\n",
              "      fill: #1967D2;\n",
              "      height: 32px;\n",
              "      padding: 0 0 0 0;\n",
              "      width: 32px;\n",
              "    }\n",
              "\n",
              "    .colab-df-convert:hover {\n",
              "      background-color: #E2EBFA;\n",
              "      box-shadow: 0px 1px 2px rgba(60, 64, 67, 0.3), 0px 1px 3px 1px rgba(60, 64, 67, 0.15);\n",
              "      fill: #174EA6;\n",
              "    }\n",
              "\n",
              "    [theme=dark] .colab-df-convert {\n",
              "      background-color: #3B4455;\n",
              "      fill: #D2E3FC;\n",
              "    }\n",
              "\n",
              "    [theme=dark] .colab-df-convert:hover {\n",
              "      background-color: #434B5C;\n",
              "      box-shadow: 0px 1px 3px 1px rgba(0, 0, 0, 0.15);\n",
              "      filter: drop-shadow(0px 1px 2px rgba(0, 0, 0, 0.3));\n",
              "      fill: #FFFFFF;\n",
              "    }\n",
              "  </style>\n",
              "\n",
              "      <script>\n",
              "        const buttonEl =\n",
              "          document.querySelector('#df-462184ab-30a4-4549-b885-e3b0c3e3f606 button.colab-df-convert');\n",
              "        buttonEl.style.display =\n",
              "          google.colab.kernel.accessAllowed ? 'block' : 'none';\n",
              "\n",
              "        async function convertToInteractive(key) {\n",
              "          const element = document.querySelector('#df-462184ab-30a4-4549-b885-e3b0c3e3f606');\n",
              "          const dataTable =\n",
              "            await google.colab.kernel.invokeFunction('convertToInteractive',\n",
              "                                                     [key], {});\n",
              "          if (!dataTable) return;\n",
              "\n",
              "          const docLinkHtml = 'Like what you see? Visit the ' +\n",
              "            '<a target=\"_blank\" href=https://colab.research.google.com/notebooks/data_table.ipynb>data table notebook</a>'\n",
              "            + ' to learn more about interactive tables.';\n",
              "          element.innerHTML = '';\n",
              "          dataTable['output_type'] = 'display_data';\n",
              "          await google.colab.output.renderOutput(dataTable, element);\n",
              "          const docLink = document.createElement('div');\n",
              "          docLink.innerHTML = docLinkHtml;\n",
              "          element.appendChild(docLink);\n",
              "        }\n",
              "      </script>\n",
              "    </div>\n",
              "  </div>\n",
              "  "
            ]
          },
          "metadata": {},
          "execution_count": 8
        }
      ]
    },
    {
      "cell_type": "markdown",
      "source": [
        "## Klasterovanje K-means metodom\n",
        "Koristicemo **Kmeans** metodu za klasterovanje iz *SciKit learn*-a, kao i \"***Silhouette score***\" i \"***Elbow score***\" kao metrike."
      ],
      "metadata": {
        "id": "tOWJup5W-VjN"
      }
    },
    {
      "cell_type": "markdown",
      "source": [
        "### Skaliranje podataka\n",
        "\n",
        "Koristicemo ***StandardScaler*** da bismo skalirali podatke i dobili sto bolje rezultate. Mozemo koristiti i *RobustScaler*, ali njegov uticaj na tzv. \"outlier\" slucajeve je minimalan."
      ],
      "metadata": {
        "id": "vyMu_6gq-9kE"
      }
    },
    {
      "cell_type": "code",
      "source": [
        "from sklearn.preprocessing import StandardScaler\n",
        "\n",
        "scaler = StandardScaler()\n",
        "\n",
        "X_normalized = scaler.fit_transform(X)\n",
        "\n",
        "X_normalized = pd.DataFrame(X_normalized, columns=X.columns)\n",
        "X_normalized.head()"
      ],
      "metadata": {
        "colab": {
          "base_uri": "https://localhost:8080/",
          "height": 236
        },
        "id": "hUV4plQ6_Ty7",
        "outputId": "e830bab2-6b30-4f6c-c71e-dd2faccfa48f"
      },
      "execution_count": 9,
      "outputs": [
        {
          "output_type": "execute_result",
          "data": {
            "text/plain": [
              "   LIMIT_BAL       SEX  EDUCATION  MARRIAGE       AGE    PAY_0     PAY_2  \\\n",
              "0  -0.494021  0.831994   0.185241  0.849346 -0.146548 -0.19881 -0.105999   \n",
              "1  -0.811936  0.831994   0.185241 -1.079016  0.172301 -0.19881 -0.105999   \n",
              "2  -0.811936 -1.201932  -1.252442  0.849346  0.172301 -0.19881 -0.105999   \n",
              "3   2.764610 -1.201932  -1.252442  0.849346 -0.677964 -0.19881 -0.105999   \n",
              "4  -0.096627  0.831994   1.622924 -1.079016 -0.784247 -0.19881 -0.105999   \n",
              "\n",
              "      PAY_3     PAY_4     PAY_5  ...  BILL_AMT3  BILL_AMT4  BILL_AMT5  \\\n",
              "0 -0.069080 -0.019801  0.028566  ...  -0.653994  -0.613112  -0.576913   \n",
              "1 -0.069080 -0.019801  0.028566  ...  -0.175281  -0.413565  -0.365427   \n",
              "2 -0.069080 -0.019801  0.028566  ...  -0.063855  -0.540860  -0.506408   \n",
              "3 -0.069080 -0.019801  0.028566  ...   5.126258   6.926391   6.488050   \n",
              "4  1.553552 -0.019801  0.028566  ...  -0.673434  -0.643366  -0.624536   \n",
              "\n",
              "   BILL_AMT6  PAY_AMT1  PAY_AMT2  PAY_AMT3  PAY_AMT4  PAY_AMT5  PAY_AMT6  \n",
              "0  -0.547903 -0.290477 -0.267987 -0.290504 -0.272508 -0.254055  0.035000  \n",
              "1  -0.332060 -0.245983 -0.220935 -0.270319 -0.262146 -0.247596 -0.229970  \n",
              "2  -0.478900 -0.199828 -0.239429 -0.325122 -0.272508 -0.254055 -0.243219  \n",
              "3   6.520330  4.646471  3.222361  3.443789  1.721057  0.939356  0.615948  \n",
              "4  -0.730316 -0.123303 -0.403974 -0.347831 -0.272508 -0.254055 -0.229970  \n",
              "\n",
              "[5 rows x 23 columns]"
            ],
            "text/html": [
              "\n",
              "  <div id=\"df-ccfcd5ab-c560-44f8-a906-9435d2911ab5\">\n",
              "    <div class=\"colab-df-container\">\n",
              "      <div>\n",
              "<style scoped>\n",
              "    .dataframe tbody tr th:only-of-type {\n",
              "        vertical-align: middle;\n",
              "    }\n",
              "\n",
              "    .dataframe tbody tr th {\n",
              "        vertical-align: top;\n",
              "    }\n",
              "\n",
              "    .dataframe thead th {\n",
              "        text-align: right;\n",
              "    }\n",
              "</style>\n",
              "<table border=\"1\" class=\"dataframe\">\n",
              "  <thead>\n",
              "    <tr style=\"text-align: right;\">\n",
              "      <th></th>\n",
              "      <th>LIMIT_BAL</th>\n",
              "      <th>SEX</th>\n",
              "      <th>EDUCATION</th>\n",
              "      <th>MARRIAGE</th>\n",
              "      <th>AGE</th>\n",
              "      <th>PAY_0</th>\n",
              "      <th>PAY_2</th>\n",
              "      <th>PAY_3</th>\n",
              "      <th>PAY_4</th>\n",
              "      <th>PAY_5</th>\n",
              "      <th>...</th>\n",
              "      <th>BILL_AMT3</th>\n",
              "      <th>BILL_AMT4</th>\n",
              "      <th>BILL_AMT5</th>\n",
              "      <th>BILL_AMT6</th>\n",
              "      <th>PAY_AMT1</th>\n",
              "      <th>PAY_AMT2</th>\n",
              "      <th>PAY_AMT3</th>\n",
              "      <th>PAY_AMT4</th>\n",
              "      <th>PAY_AMT5</th>\n",
              "      <th>PAY_AMT6</th>\n",
              "    </tr>\n",
              "  </thead>\n",
              "  <tbody>\n",
              "    <tr>\n",
              "      <th>0</th>\n",
              "      <td>-0.494021</td>\n",
              "      <td>0.831994</td>\n",
              "      <td>0.185241</td>\n",
              "      <td>0.849346</td>\n",
              "      <td>-0.146548</td>\n",
              "      <td>-0.19881</td>\n",
              "      <td>-0.105999</td>\n",
              "      <td>-0.069080</td>\n",
              "      <td>-0.019801</td>\n",
              "      <td>0.028566</td>\n",
              "      <td>...</td>\n",
              "      <td>-0.653994</td>\n",
              "      <td>-0.613112</td>\n",
              "      <td>-0.576913</td>\n",
              "      <td>-0.547903</td>\n",
              "      <td>-0.290477</td>\n",
              "      <td>-0.267987</td>\n",
              "      <td>-0.290504</td>\n",
              "      <td>-0.272508</td>\n",
              "      <td>-0.254055</td>\n",
              "      <td>0.035000</td>\n",
              "    </tr>\n",
              "    <tr>\n",
              "      <th>1</th>\n",
              "      <td>-0.811936</td>\n",
              "      <td>0.831994</td>\n",
              "      <td>0.185241</td>\n",
              "      <td>-1.079016</td>\n",
              "      <td>0.172301</td>\n",
              "      <td>-0.19881</td>\n",
              "      <td>-0.105999</td>\n",
              "      <td>-0.069080</td>\n",
              "      <td>-0.019801</td>\n",
              "      <td>0.028566</td>\n",
              "      <td>...</td>\n",
              "      <td>-0.175281</td>\n",
              "      <td>-0.413565</td>\n",
              "      <td>-0.365427</td>\n",
              "      <td>-0.332060</td>\n",
              "      <td>-0.245983</td>\n",
              "      <td>-0.220935</td>\n",
              "      <td>-0.270319</td>\n",
              "      <td>-0.262146</td>\n",
              "      <td>-0.247596</td>\n",
              "      <td>-0.229970</td>\n",
              "    </tr>\n",
              "    <tr>\n",
              "      <th>2</th>\n",
              "      <td>-0.811936</td>\n",
              "      <td>-1.201932</td>\n",
              "      <td>-1.252442</td>\n",
              "      <td>0.849346</td>\n",
              "      <td>0.172301</td>\n",
              "      <td>-0.19881</td>\n",
              "      <td>-0.105999</td>\n",
              "      <td>-0.069080</td>\n",
              "      <td>-0.019801</td>\n",
              "      <td>0.028566</td>\n",
              "      <td>...</td>\n",
              "      <td>-0.063855</td>\n",
              "      <td>-0.540860</td>\n",
              "      <td>-0.506408</td>\n",
              "      <td>-0.478900</td>\n",
              "      <td>-0.199828</td>\n",
              "      <td>-0.239429</td>\n",
              "      <td>-0.325122</td>\n",
              "      <td>-0.272508</td>\n",
              "      <td>-0.254055</td>\n",
              "      <td>-0.243219</td>\n",
              "    </tr>\n",
              "    <tr>\n",
              "      <th>3</th>\n",
              "      <td>2.764610</td>\n",
              "      <td>-1.201932</td>\n",
              "      <td>-1.252442</td>\n",
              "      <td>0.849346</td>\n",
              "      <td>-0.677964</td>\n",
              "      <td>-0.19881</td>\n",
              "      <td>-0.105999</td>\n",
              "      <td>-0.069080</td>\n",
              "      <td>-0.019801</td>\n",
              "      <td>0.028566</td>\n",
              "      <td>...</td>\n",
              "      <td>5.126258</td>\n",
              "      <td>6.926391</td>\n",
              "      <td>6.488050</td>\n",
              "      <td>6.520330</td>\n",
              "      <td>4.646471</td>\n",
              "      <td>3.222361</td>\n",
              "      <td>3.443789</td>\n",
              "      <td>1.721057</td>\n",
              "      <td>0.939356</td>\n",
              "      <td>0.615948</td>\n",
              "    </tr>\n",
              "    <tr>\n",
              "      <th>4</th>\n",
              "      <td>-0.096627</td>\n",
              "      <td>0.831994</td>\n",
              "      <td>1.622924</td>\n",
              "      <td>-1.079016</td>\n",
              "      <td>-0.784247</td>\n",
              "      <td>-0.19881</td>\n",
              "      <td>-0.105999</td>\n",
              "      <td>1.553552</td>\n",
              "      <td>-0.019801</td>\n",
              "      <td>0.028566</td>\n",
              "      <td>...</td>\n",
              "      <td>-0.673434</td>\n",
              "      <td>-0.643366</td>\n",
              "      <td>-0.624536</td>\n",
              "      <td>-0.730316</td>\n",
              "      <td>-0.123303</td>\n",
              "      <td>-0.403974</td>\n",
              "      <td>-0.347831</td>\n",
              "      <td>-0.272508</td>\n",
              "      <td>-0.254055</td>\n",
              "      <td>-0.229970</td>\n",
              "    </tr>\n",
              "  </tbody>\n",
              "</table>\n",
              "<p>5 rows × 23 columns</p>\n",
              "</div>\n",
              "      <button class=\"colab-df-convert\" onclick=\"convertToInteractive('df-ccfcd5ab-c560-44f8-a906-9435d2911ab5')\"\n",
              "              title=\"Convert this dataframe to an interactive table.\"\n",
              "              style=\"display:none;\">\n",
              "        \n",
              "  <svg xmlns=\"http://www.w3.org/2000/svg\" height=\"24px\"viewBox=\"0 0 24 24\"\n",
              "       width=\"24px\">\n",
              "    <path d=\"M0 0h24v24H0V0z\" fill=\"none\"/>\n",
              "    <path d=\"M18.56 5.44l.94 2.06.94-2.06 2.06-.94-2.06-.94-.94-2.06-.94 2.06-2.06.94zm-11 1L8.5 8.5l.94-2.06 2.06-.94-2.06-.94L8.5 2.5l-.94 2.06-2.06.94zm10 10l.94 2.06.94-2.06 2.06-.94-2.06-.94-.94-2.06-.94 2.06-2.06.94z\"/><path d=\"M17.41 7.96l-1.37-1.37c-.4-.4-.92-.59-1.43-.59-.52 0-1.04.2-1.43.59L10.3 9.45l-7.72 7.72c-.78.78-.78 2.05 0 2.83L4 21.41c.39.39.9.59 1.41.59.51 0 1.02-.2 1.41-.59l7.78-7.78 2.81-2.81c.8-.78.8-2.07 0-2.86zM5.41 20L4 18.59l7.72-7.72 1.47 1.35L5.41 20z\"/>\n",
              "  </svg>\n",
              "      </button>\n",
              "      \n",
              "  <style>\n",
              "    .colab-df-container {\n",
              "      display:flex;\n",
              "      flex-wrap:wrap;\n",
              "      gap: 12px;\n",
              "    }\n",
              "\n",
              "    .colab-df-convert {\n",
              "      background-color: #E8F0FE;\n",
              "      border: none;\n",
              "      border-radius: 50%;\n",
              "      cursor: pointer;\n",
              "      display: none;\n",
              "      fill: #1967D2;\n",
              "      height: 32px;\n",
              "      padding: 0 0 0 0;\n",
              "      width: 32px;\n",
              "    }\n",
              "\n",
              "    .colab-df-convert:hover {\n",
              "      background-color: #E2EBFA;\n",
              "      box-shadow: 0px 1px 2px rgba(60, 64, 67, 0.3), 0px 1px 3px 1px rgba(60, 64, 67, 0.15);\n",
              "      fill: #174EA6;\n",
              "    }\n",
              "\n",
              "    [theme=dark] .colab-df-convert {\n",
              "      background-color: #3B4455;\n",
              "      fill: #D2E3FC;\n",
              "    }\n",
              "\n",
              "    [theme=dark] .colab-df-convert:hover {\n",
              "      background-color: #434B5C;\n",
              "      box-shadow: 0px 1px 3px 1px rgba(0, 0, 0, 0.15);\n",
              "      filter: drop-shadow(0px 1px 2px rgba(0, 0, 0, 0.3));\n",
              "      fill: #FFFFFF;\n",
              "    }\n",
              "  </style>\n",
              "\n",
              "      <script>\n",
              "        const buttonEl =\n",
              "          document.querySelector('#df-ccfcd5ab-c560-44f8-a906-9435d2911ab5 button.colab-df-convert');\n",
              "        buttonEl.style.display =\n",
              "          google.colab.kernel.accessAllowed ? 'block' : 'none';\n",
              "\n",
              "        async function convertToInteractive(key) {\n",
              "          const element = document.querySelector('#df-ccfcd5ab-c560-44f8-a906-9435d2911ab5');\n",
              "          const dataTable =\n",
              "            await google.colab.kernel.invokeFunction('convertToInteractive',\n",
              "                                                     [key], {});\n",
              "          if (!dataTable) return;\n",
              "\n",
              "          const docLinkHtml = 'Like what you see? Visit the ' +\n",
              "            '<a target=\"_blank\" href=https://colab.research.google.com/notebooks/data_table.ipynb>data table notebook</a>'\n",
              "            + ' to learn more about interactive tables.';\n",
              "          element.innerHTML = '';\n",
              "          dataTable['output_type'] = 'display_data';\n",
              "          await google.colab.output.renderOutput(dataTable, element);\n",
              "          const docLink = document.createElement('div');\n",
              "          docLink.innerHTML = docLinkHtml;\n",
              "          element.appendChild(docLink);\n",
              "        }\n",
              "      </script>\n",
              "    </div>\n",
              "  </div>\n",
              "  "
            ]
          },
          "metadata": {},
          "execution_count": 9
        }
      ]
    },
    {
      "cell_type": "code",
      "source": [
        "X_normalized.shape"
      ],
      "metadata": {
        "colab": {
          "base_uri": "https://localhost:8080/"
        },
        "id": "snngrbdplYQM",
        "outputId": "d8541eb7-5044-4cf1-cb1b-ea3305b05622"
      },
      "execution_count": 10,
      "outputs": [
        {
          "output_type": "execute_result",
          "data": {
            "text/plain": [
              "(19496, 23)"
            ]
          },
          "metadata": {},
          "execution_count": 10
        }
      ]
    },
    {
      "cell_type": "markdown",
      "source": [
        "Vidimo da imamo 19496 uzoraka sa 23 dimenzije"
      ],
      "metadata": {
        "id": "mj7ZpW2flccd"
      }
    },
    {
      "cell_type": "markdown",
      "source": [
        "### Uklanjanje *outlier*-a\n",
        "Posto se moze desiti da imamo tzv. \"outlier\" slucajeva koji mogu da nam prave problem tokom klasterovanja, odradicemo \"*Z-score*\" metriku koja nam kaze koliko standardnih devijacija je svaki podatak(svaka pojedinacna dimenzija jednog uzorka) udaljen od matematickog ocekivanja. Sve vrednosti vece od 3 standardne devijacije uklanjamo, jer ih uzimamo za outlier-e. "
      ],
      "metadata": {
        "id": "NL0CPm09lG-A"
      }
    },
    {
      "cell_type": "code",
      "source": [
        "from scipy import stats\n",
        "\n",
        "X_normalized_outliered = X_normalized.loc[ ( stats.zscore(X_normalized) < 3 ).all( axis=1 ) , :] # treba absolute Z-score"
      ],
      "metadata": {
        "id": "CHTlNWPJlgz0"
      },
      "execution_count": 11,
      "outputs": []
    },
    {
      "cell_type": "code",
      "source": [
        "X_normalized_outliered.shape"
      ],
      "metadata": {
        "colab": {
          "base_uri": "https://localhost:8080/"
        },
        "id": "MjBaNEcVmCZq",
        "outputId": "3b4a1ef8-67da-411f-e6a4-7a62c174db13"
      },
      "execution_count": 12,
      "outputs": [
        {
          "output_type": "execute_result",
          "data": {
            "text/plain": [
              "(17397, 23)"
            ]
          },
          "metadata": {},
          "execution_count": 12
        }
      ]
    },
    {
      "cell_type": "markdown",
      "source": [
        "Primeticemo da smo pronasli skoro 2100 primera koji su (potencijalni) outlier-i i njih smo uklonili radi tacnosti naseg klasterovanja."
      ],
      "metadata": {
        "id": "AMP6KFqUmF1P"
      }
    },
    {
      "cell_type": "markdown",
      "source": [
        "### K-means klastering"
      ],
      "metadata": {
        "id": "nHBwUefUlBXK"
      }
    },
    {
      "cell_type": "markdown",
      "source": [
        "Posto na izlazu imamo dve vrednosti - 0 i 1, odnosno nije platio i jeste platio respektivno, koristicemo samo dva klastera. "
      ],
      "metadata": {
        "id": "dgIsFie6fOlH"
      }
    },
    {
      "cell_type": "code",
      "source": [
        "from sklearn.cluster import KMeans\n",
        "\n",
        "model = KMeans(n_clusters=2)\n",
        "model.fit(X_normalized_outliered)"
      ],
      "metadata": {
        "colab": {
          "base_uri": "https://localhost:8080/"
        },
        "id": "nBHHzQOifNIQ",
        "outputId": "55ea47f6-c05d-445b-cf22-7e1fddd01c14"
      },
      "execution_count": 13,
      "outputs": [
        {
          "output_type": "execute_result",
          "data": {
            "text/plain": [
              "KMeans(n_clusters=2)"
            ]
          },
          "metadata": {},
          "execution_count": 13
        }
      ]
    },
    {
      "cell_type": "markdown",
      "source": [
        "Sada mozemo prediktovati kom klasteru koji uzorak pripada i tu kolonu pripojiti nasem DataFrame-u. "
      ],
      "metadata": {
        "id": "JLA9VIv-ni8y"
      }
    },
    {
      "cell_type": "code",
      "source": [
        "X_normalized_outliered['Cluster'] = model.predict(X_normalized_outliered)\n",
        "\n",
        "X_normalized_outliered.groupby('Cluster').mean()#centri klastera"
      ],
      "metadata": {
        "colab": {
          "base_uri": "https://localhost:8080/",
          "height": 277
        },
        "id": "WYhy0vronp6q",
        "outputId": "c6cb1293-2f53-4b9e-afbe-9c1f0b2edd6c"
      },
      "execution_count": 14,
      "outputs": [
        {
          "output_type": "stream",
          "name": "stderr",
          "text": [
            "/usr/local/lib/python3.7/dist-packages/ipykernel_launcher.py:1: SettingWithCopyWarning: \n",
            "A value is trying to be set on a copy of a slice from a DataFrame.\n",
            "Try using .loc[row_indexer,col_indexer] = value instead\n",
            "\n",
            "See the caveats in the documentation: https://pandas.pydata.org/pandas-docs/stable/user_guide/indexing.html#returning-a-view-versus-a-copy\n",
            "  \"\"\"Entry point for launching an IPython kernel.\n"
          ]
        },
        {
          "output_type": "execute_result",
          "data": {
            "text/plain": [
              "         LIMIT_BAL       SEX  EDUCATION  MARRIAGE       AGE     PAY_0  \\\n",
              "Cluster                                                                 \n",
              "0         0.486172  0.116536  -0.301604 -0.118833  0.120041 -1.074662   \n",
              "1        -0.232680 -0.007072   0.064005  0.032820 -0.060938  0.184578   \n",
              "\n",
              "            PAY_2     PAY_3     PAY_4     PAY_5  ...  BILL_AMT3  BILL_AMT4  \\\n",
              "Cluster                                          ...                         \n",
              "0       -1.455914 -1.538644 -1.584178 -1.616696  ...  -0.798520  -0.791337   \n",
              "1        0.254189  0.264889  0.268423  0.275020  ...  -0.002215  -0.002421   \n",
              "\n",
              "         BILL_AMT5  BILL_AMT6  PAY_AMT1  PAY_AMT2  PAY_AMT3  PAY_AMT4  \\\n",
              "Cluster                                                                 \n",
              "0        -0.776946  -0.763492 -0.224465 -0.227913 -0.226432 -0.214997   \n",
              "1        -0.002072   0.000353 -0.094640 -0.090727 -0.090486 -0.093961   \n",
              "\n",
              "         PAY_AMT5  PAY_AMT6  \n",
              "Cluster                      \n",
              "0       -0.203044 -0.167823  \n",
              "1       -0.092552 -0.110561  \n",
              "\n",
              "[2 rows x 23 columns]"
            ],
            "text/html": [
              "\n",
              "  <div id=\"df-795d069f-6760-437b-b337-71c3374922fd\">\n",
              "    <div class=\"colab-df-container\">\n",
              "      <div>\n",
              "<style scoped>\n",
              "    .dataframe tbody tr th:only-of-type {\n",
              "        vertical-align: middle;\n",
              "    }\n",
              "\n",
              "    .dataframe tbody tr th {\n",
              "        vertical-align: top;\n",
              "    }\n",
              "\n",
              "    .dataframe thead th {\n",
              "        text-align: right;\n",
              "    }\n",
              "</style>\n",
              "<table border=\"1\" class=\"dataframe\">\n",
              "  <thead>\n",
              "    <tr style=\"text-align: right;\">\n",
              "      <th></th>\n",
              "      <th>LIMIT_BAL</th>\n",
              "      <th>SEX</th>\n",
              "      <th>EDUCATION</th>\n",
              "      <th>MARRIAGE</th>\n",
              "      <th>AGE</th>\n",
              "      <th>PAY_0</th>\n",
              "      <th>PAY_2</th>\n",
              "      <th>PAY_3</th>\n",
              "      <th>PAY_4</th>\n",
              "      <th>PAY_5</th>\n",
              "      <th>...</th>\n",
              "      <th>BILL_AMT3</th>\n",
              "      <th>BILL_AMT4</th>\n",
              "      <th>BILL_AMT5</th>\n",
              "      <th>BILL_AMT6</th>\n",
              "      <th>PAY_AMT1</th>\n",
              "      <th>PAY_AMT2</th>\n",
              "      <th>PAY_AMT3</th>\n",
              "      <th>PAY_AMT4</th>\n",
              "      <th>PAY_AMT5</th>\n",
              "      <th>PAY_AMT6</th>\n",
              "    </tr>\n",
              "    <tr>\n",
              "      <th>Cluster</th>\n",
              "      <th></th>\n",
              "      <th></th>\n",
              "      <th></th>\n",
              "      <th></th>\n",
              "      <th></th>\n",
              "      <th></th>\n",
              "      <th></th>\n",
              "      <th></th>\n",
              "      <th></th>\n",
              "      <th></th>\n",
              "      <th></th>\n",
              "      <th></th>\n",
              "      <th></th>\n",
              "      <th></th>\n",
              "      <th></th>\n",
              "      <th></th>\n",
              "      <th></th>\n",
              "      <th></th>\n",
              "      <th></th>\n",
              "      <th></th>\n",
              "      <th></th>\n",
              "    </tr>\n",
              "  </thead>\n",
              "  <tbody>\n",
              "    <tr>\n",
              "      <th>0</th>\n",
              "      <td>0.486172</td>\n",
              "      <td>0.116536</td>\n",
              "      <td>-0.301604</td>\n",
              "      <td>-0.118833</td>\n",
              "      <td>0.120041</td>\n",
              "      <td>-1.074662</td>\n",
              "      <td>-1.455914</td>\n",
              "      <td>-1.538644</td>\n",
              "      <td>-1.584178</td>\n",
              "      <td>-1.616696</td>\n",
              "      <td>...</td>\n",
              "      <td>-0.798520</td>\n",
              "      <td>-0.791337</td>\n",
              "      <td>-0.776946</td>\n",
              "      <td>-0.763492</td>\n",
              "      <td>-0.224465</td>\n",
              "      <td>-0.227913</td>\n",
              "      <td>-0.226432</td>\n",
              "      <td>-0.214997</td>\n",
              "      <td>-0.203044</td>\n",
              "      <td>-0.167823</td>\n",
              "    </tr>\n",
              "    <tr>\n",
              "      <th>1</th>\n",
              "      <td>-0.232680</td>\n",
              "      <td>-0.007072</td>\n",
              "      <td>0.064005</td>\n",
              "      <td>0.032820</td>\n",
              "      <td>-0.060938</td>\n",
              "      <td>0.184578</td>\n",
              "      <td>0.254189</td>\n",
              "      <td>0.264889</td>\n",
              "      <td>0.268423</td>\n",
              "      <td>0.275020</td>\n",
              "      <td>...</td>\n",
              "      <td>-0.002215</td>\n",
              "      <td>-0.002421</td>\n",
              "      <td>-0.002072</td>\n",
              "      <td>0.000353</td>\n",
              "      <td>-0.094640</td>\n",
              "      <td>-0.090727</td>\n",
              "      <td>-0.090486</td>\n",
              "      <td>-0.093961</td>\n",
              "      <td>-0.092552</td>\n",
              "      <td>-0.110561</td>\n",
              "    </tr>\n",
              "  </tbody>\n",
              "</table>\n",
              "<p>2 rows × 23 columns</p>\n",
              "</div>\n",
              "      <button class=\"colab-df-convert\" onclick=\"convertToInteractive('df-795d069f-6760-437b-b337-71c3374922fd')\"\n",
              "              title=\"Convert this dataframe to an interactive table.\"\n",
              "              style=\"display:none;\">\n",
              "        \n",
              "  <svg xmlns=\"http://www.w3.org/2000/svg\" height=\"24px\"viewBox=\"0 0 24 24\"\n",
              "       width=\"24px\">\n",
              "    <path d=\"M0 0h24v24H0V0z\" fill=\"none\"/>\n",
              "    <path d=\"M18.56 5.44l.94 2.06.94-2.06 2.06-.94-2.06-.94-.94-2.06-.94 2.06-2.06.94zm-11 1L8.5 8.5l.94-2.06 2.06-.94-2.06-.94L8.5 2.5l-.94 2.06-2.06.94zm10 10l.94 2.06.94-2.06 2.06-.94-2.06-.94-.94-2.06-.94 2.06-2.06.94z\"/><path d=\"M17.41 7.96l-1.37-1.37c-.4-.4-.92-.59-1.43-.59-.52 0-1.04.2-1.43.59L10.3 9.45l-7.72 7.72c-.78.78-.78 2.05 0 2.83L4 21.41c.39.39.9.59 1.41.59.51 0 1.02-.2 1.41-.59l7.78-7.78 2.81-2.81c.8-.78.8-2.07 0-2.86zM5.41 20L4 18.59l7.72-7.72 1.47 1.35L5.41 20z\"/>\n",
              "  </svg>\n",
              "      </button>\n",
              "      \n",
              "  <style>\n",
              "    .colab-df-container {\n",
              "      display:flex;\n",
              "      flex-wrap:wrap;\n",
              "      gap: 12px;\n",
              "    }\n",
              "\n",
              "    .colab-df-convert {\n",
              "      background-color: #E8F0FE;\n",
              "      border: none;\n",
              "      border-radius: 50%;\n",
              "      cursor: pointer;\n",
              "      display: none;\n",
              "      fill: #1967D2;\n",
              "      height: 32px;\n",
              "      padding: 0 0 0 0;\n",
              "      width: 32px;\n",
              "    }\n",
              "\n",
              "    .colab-df-convert:hover {\n",
              "      background-color: #E2EBFA;\n",
              "      box-shadow: 0px 1px 2px rgba(60, 64, 67, 0.3), 0px 1px 3px 1px rgba(60, 64, 67, 0.15);\n",
              "      fill: #174EA6;\n",
              "    }\n",
              "\n",
              "    [theme=dark] .colab-df-convert {\n",
              "      background-color: #3B4455;\n",
              "      fill: #D2E3FC;\n",
              "    }\n",
              "\n",
              "    [theme=dark] .colab-df-convert:hover {\n",
              "      background-color: #434B5C;\n",
              "      box-shadow: 0px 1px 3px 1px rgba(0, 0, 0, 0.15);\n",
              "      filter: drop-shadow(0px 1px 2px rgba(0, 0, 0, 0.3));\n",
              "      fill: #FFFFFF;\n",
              "    }\n",
              "  </style>\n",
              "\n",
              "      <script>\n",
              "        const buttonEl =\n",
              "          document.querySelector('#df-795d069f-6760-437b-b337-71c3374922fd button.colab-df-convert');\n",
              "        buttonEl.style.display =\n",
              "          google.colab.kernel.accessAllowed ? 'block' : 'none';\n",
              "\n",
              "        async function convertToInteractive(key) {\n",
              "          const element = document.querySelector('#df-795d069f-6760-437b-b337-71c3374922fd');\n",
              "          const dataTable =\n",
              "            await google.colab.kernel.invokeFunction('convertToInteractive',\n",
              "                                                     [key], {});\n",
              "          if (!dataTable) return;\n",
              "\n",
              "          const docLinkHtml = 'Like what you see? Visit the ' +\n",
              "            '<a target=\"_blank\" href=https://colab.research.google.com/notebooks/data_table.ipynb>data table notebook</a>'\n",
              "            + ' to learn more about interactive tables.';\n",
              "          element.innerHTML = '';\n",
              "          dataTable['output_type'] = 'display_data';\n",
              "          await google.colab.output.renderOutput(dataTable, element);\n",
              "          const docLink = document.createElement('div');\n",
              "          docLink.innerHTML = docLinkHtml;\n",
              "          element.appendChild(docLink);\n",
              "        }\n",
              "      </script>\n",
              "    </div>\n",
              "  </div>\n",
              "  "
            ]
          },
          "metadata": {},
          "execution_count": 14
        }
      ]
    },
    {
      "cell_type": "markdown",
      "source": [
        "Mozemo ove rezultate vizualizovati na sledeci nacin:"
      ],
      "metadata": {
        "id": "Fz9y8VKZueSR"
      }
    },
    {
      "cell_type": "code",
      "source": [
        "%matplotlib inline\n",
        "from matplotlib import pyplot as plt\n",
        "\n",
        "def plotovanje_centara(model):\n",
        "  plt.figure(figsize=(20,15))\n",
        "  plt.plot(model.cluster_centers_[0], c='r')\n",
        "  plt.plot(model.cluster_centers_[1], c='b')\n",
        "\n",
        "  plt.xticks(list(range(X_normalized_outliered.shape[1] - 1)), X_normalized_outliered.columns[:-1])\n",
        "\n",
        "  plt.grid()\n",
        "\n",
        "  plt.show()\n",
        "\n",
        "plotovanje_centara(model)"
      ],
      "metadata": {
        "colab": {
          "base_uri": "https://localhost:8080/",
          "height": 864
        },
        "id": "MbAfOjx2tG3_",
        "outputId": "5566ba2a-9c38-4aec-c34f-c6effae91b75"
      },
      "execution_count": 15,
      "outputs": [
        {
          "output_type": "display_data",
          "data": {
            "text/plain": [
              "<Figure size 1440x1080 with 1 Axes>"
            ],
            "image/png": "[encoded data removed]"
          },
          "metadata": {
            "needs_background": "light"
          }
        }
      ]
    },
    {
      "cell_type": "markdown",
      "source": [
        "Na apscisnoj osi nalaze se nazivi nasih obelezja, dok su na ordinati vrednosti centroida za data obelezja. \n",
        "\n",
        "Mozemo videti da je klaster 0 okarakterisan niskim vrednostima za PAY_x kolone, dok je klaster 1 okarakterisan visokim vrednostima za iste dimenzije.\n",
        "\n",
        "Iduci ka atributima udesno, videcemo da se razlika izmedju ova dva klastera smanjuje drasticno za BILL_AMT vrednosti, a jos vise za PAY_AMT vrednosti, sto znaci da, koristeci iskljucivo te atribute, teze cemo razlikovati ova dva klastera. Ovaj stav takodje vazi za atribute SEX, MARRIAGE i AGE gde su vrednosti centroida priblizno slicne.  "
      ],
      "metadata": {
        "id": "3R0p4ixtudC1"
      }
    },
    {
      "cell_type": "markdown",
      "source": [
        "### Scoring\n",
        "Koristicemo \"*Silhouette score*\" metriku. Ova metrika uzima opseg vrednosti [-1,1] gde se kaze da je 1 najbolje grupisanje(teoretski), 0 da nije sigurno kom klasteru pripada dati slucaj, a vrednost -1 znaci da smo pogresno dodelili centroide.\n",
        " "
      ],
      "metadata": {
        "id": "usCZF9u34YqQ"
      }
    },
    {
      "cell_type": "code",
      "source": [
        "from sklearn.metrics import silhouette_score\n",
        "\n",
        "#Prvi argument su sve kolone osim \"Cluster\" kolone, drugi argument jeste cluster kolona, svi redovi ukljuceni u proces.\n",
        "silhouette_score(X_normalized_outliered.iloc[:, :-1], X_normalized_outliered.iloc[:, -1])"
      ],
      "metadata": {
        "colab": {
          "base_uri": "https://localhost:8080/"
        },
        "id": "QrWdvS0N4745",
        "outputId": "b6143075-4bce-44d4-cbe9-06edb5d48ec5"
      },
      "execution_count": 16,
      "outputs": [
        {
          "output_type": "execute_result",
          "data": {
            "text/plain": [
              "0.2952859316054911"
            ]
          },
          "metadata": {},
          "execution_count": 16
        }
      ]
    },
    {
      "cell_type": "markdown",
      "source": [
        "Dakle, za dati skup podataka i 2 klastera imamo skor od ~0.29, sto nije najbolje. Pokusajmo da optimizujemo broj klastera"
      ],
      "metadata": {
        "id": "emrCQohL8LmP"
      }
    },
    {
      "cell_type": "markdown",
      "source": [
        "### Optimizacija hiperparametara\n",
        "S obzirom da imamo samo 1 hiperparametar - \"*n_clusters*\" tj. broj klastera potrebno je samo da pronadjemo najoptimalniji broj klastera.\n",
        "\n",
        "Prilikom ocene koristicemo dve metrike: \n",
        "\n",
        "*   ***Silhouette score***\n",
        "*   ***Elbow score***\n",
        "\n"
      ],
      "metadata": {
        "id": "oTphOn_88UfP"
      }
    },
    {
      "cell_type": "code",
      "source": [
        "input_data = X_normalized_outliered.iloc[:,:-1] # uzimamo podatke bez poslednje kolone(\"Cluster\")\n",
        "\n",
        "def izracunaj_lakat_siluetu(data):\n",
        "  elbow = []\n",
        "  silhouette = []\n",
        "  for i in range(1,10):\n",
        "    model = KMeans(n_clusters=i).fit(data)\n",
        "    elbow.append(model.inertia_)\n",
        "    if(i > 1):\n",
        "      silhouette.append( silhouette_score(data, model.predict(data) ) )\n",
        "\n",
        "  return {\n",
        "      \"elbow\": elbow,\n",
        "      \"silhouette\":silhouette\n",
        "  }"
      ],
      "metadata": {
        "id": "4G9bHQb2-ZnE"
      },
      "execution_count": 17,
      "outputs": []
    },
    {
      "cell_type": "code",
      "source": [
        "def plot_scores(siluete, lakat):\n",
        "  x = range(2,10)\n",
        "  fig, ax = plt.subplots(2, figsize=(20,15))\n",
        "\n",
        "  ax[0].plot(range(1,10), lakat)\n",
        "  ax[0].set_title(\"Lakat metoda\")\n",
        "\n",
        "  ax[1].plot(x, siluete)\n",
        "  ax[1].set_title(\"Silhouette skor\")\n",
        "\n",
        "  plt.xlabel(\"Broj klastera\")\n",
        "\n",
        "rezultat = izracunaj_lakat_siluetu(input_data)\n",
        "plot_scores(rezultat[\"silhouette\"],rezultat[\"elbow\"])"
      ],
      "metadata": {
        "colab": {
          "base_uri": "https://localhost:8080/",
          "height": 893
        },
        "id": "OUSa1ONX_Pl9",
        "outputId": "1f3db9b2-9a16-4db6-f1c8-865bc8f65d87"
      },
      "execution_count": 18,
      "outputs": [
        {
          "output_type": "display_data",
          "data": {
            "text/plain": [
              "<Figure size 1440x1080 with 2 Axes>"
            ],
            "image/png": "[encoded data removed]"
          },
          "metadata": {
            "needs_background": "light"
          }
        }
      ]
    },
    {
      "cell_type": "markdown",
      "source": [
        "Metodom lakta, trazimo nagle padove(\"laktove\") na grafiku, ocigledno je da se jedan nalazi na 2, na 3, a jedan na 5, sto znaci da bi po lakat metodi to bio najoptimalniji broj klastera.\n",
        "\n",
        "Ako pogledamo silhouette skor, videcemo da je najoptimalniji skor pri broju klastera=2(sto je ujedno i cifra s kojom smo prvobitno radili) - tada je ***Silhouette score=0.2952859316054911***."
      ],
      "metadata": {
        "id": "ytpzI4ZqGRcS"
      }
    },
    {
      "cell_type": "markdown",
      "source": [
        "Posto smo inicijalno odradili najbolji siluet skor(2), odradicemo, na osnovu Elbow metode, i prikaz centara kada je broj klastera 3."
      ],
      "metadata": {
        "id": "Vm6GqIFoIdL3"
      }
    },
    {
      "cell_type": "code",
      "source": [
        "model = KMeans(n_clusters=3)\n",
        "model.fit(X_normalized_outliered)\n",
        "\n",
        "plotovanje_centara(model)"
      ],
      "metadata": {
        "colab": {
          "base_uri": "https://localhost:8080/",
          "height": 864
        },
        "id": "DtUPZ3iFJOuI",
        "outputId": "3fa007f5-88e4-4a10-c7eb-67de17f40a61"
      },
      "execution_count": 19,
      "outputs": [
        {
          "output_type": "display_data",
          "data": {
            "text/plain": [
              "<Figure size 1440x1080 with 1 Axes>"
            ],
            "image/png": "[encoded data removed]"
          },
          "metadata": {
            "needs_background": "light"
          }
        }
      ]
    },
    {
      "cell_type": "markdown",
      "source": [
        "## Hijerarhijsko klasterovanje\n",
        "\n",
        "Ovom metodom kreira se dendrogram koji spaja uzorke na takavn nacin da kreira hijerarhiju."
      ],
      "metadata": {
        "id": "ZjihY0NeM4aV"
      }
    },
    {
      "cell_type": "code",
      "source": [
        "from scipy.cluster.hierarchy import dendrogram, linkage\n",
        "\n",
        "Z = linkage(input_data, 'ward')#Wardov metod?\n",
        "\n",
        "plt.figure(figsize=(25, 10))\n",
        "plt.title('Hijerarhijsko klasterovanje')\n",
        "plt.ylabel('Euklidska distanca')\n",
        "\n",
        "dendrogram(Z)\n",
        "\n",
        "plt.show()"
      ],
      "metadata": {
        "colab": {
          "base_uri": "https://localhost:8080/",
          "height": 614
        },
        "id": "nP3Tg3gSNYeQ",
        "outputId": "039fc2a5-45dd-47ff-e120-ad741324019a"
      },
      "execution_count": 20,
      "outputs": [
        {
          "output_type": "display_data",
          "data": {
            "text/plain": [
              "<Figure size 1800x720 with 1 Axes>"
            ],
            "image/png": "[encoded data removed]"
          },
          "metadata": {
            "needs_background": "light"
          }
        }
      ]
    },
    {
      "cell_type": "markdown",
      "source": [
        "## Aglomerativno klasterovanje"
      ],
      "metadata": {
        "id": "wz6cf2VGOJYG"
      }
    },
    {
      "cell_type": "code",
      "source": [
        "from sklearn.cluster import AgglomerativeClustering\n",
        "\n",
        "model = AgglomerativeClustering(n_clusters=2, linkage='ward')\n",
        "model.fit(input_data)\n",
        "\n",
        "silhouette_score(input_data, model.labels_)"
      ],
      "metadata": {
        "colab": {
          "base_uri": "https://localhost:8080/"
        },
        "id": "PEGUC5YOONo3",
        "outputId": "70cd0968-4b27-498e-ffff-49e732836887"
      },
      "execution_count": 21,
      "outputs": [
        {
          "output_type": "execute_result",
          "data": {
            "text/plain": [
              "0.27879627135196255"
            ]
          },
          "metadata": {},
          "execution_count": 21
        }
      ]
    },
    {
      "cell_type": "code",
      "source": [
        "from IPython.core.pylabtools import figsize\n",
        "def izracunaj_siluetu_aglomerativno(data):\n",
        "  silhouette = []\n",
        "  for i in range(2,10):\n",
        "    model = AgglomerativeClustering(n_clusters=i, linkage=\"ward\").fit(data)\n",
        "    silhouette.append( silhouette_score(data, model.labels_ ) )\n",
        "\n",
        "  return silhouette\n",
        "\n",
        "def plot_scores_aglomerativno(siluete):\n",
        "  x = range(2,10)\n",
        "\n",
        "  plt.plot(x, siluete, label=\"Silhouette score\")\n",
        "\n",
        "  plt.xlabel(\"Broj klastera\")\n",
        "  plt.show()"
      ],
      "metadata": {
        "id": "_IbZ8_-_UIP2"
      },
      "execution_count": 22,
      "outputs": []
    },
    {
      "cell_type": "code",
      "source": [
        "rezultat = izracunaj_siluetu_aglomerativno(input_data)\n",
        "plot_scores_aglomerativno(rezultat)"
      ],
      "metadata": {
        "colab": {
          "base_uri": "https://localhost:8080/",
          "height": 279
        },
        "id": "Y2XiYWxdRSSM",
        "outputId": "b91de235-939a-438c-c94e-1b54a11426df"
      },
      "execution_count": 23,
      "outputs": [
        {
          "output_type": "display_data",
          "data": {
            "text/plain": [
              "<Figure size 432x288 with 1 Axes>"
            ],
            "image/png": "[encoded data removed]"
          },
          "metadata": {
            "needs_background": "light"
          }
        }
      ]
    }
  ]
}